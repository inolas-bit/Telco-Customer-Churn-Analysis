{
 "cells": [
  {
   "cell_type": "code",
   "execution_count": null,
   "id": "195f1e0a-dd0a-4baf-bc13-d6155c8459c6",
   "metadata": {},
   "outputs": [],
   "source": [
    "TELCO CUSTOMER CHURN "
   ]
  },
  {
   "cell_type": "code",
   "execution_count": null,
   "id": "5f8f5c99-0078-497c-a399-063b13ad56fd",
   "metadata": {},
   "outputs": [],
   "source": [
    "## Statement of the Problem\n",
    "#Using information about a customer's demographics and service usage, the objective is to forecast whether or not they will leave.\n",
    "\n",
    "\n",
    "## Goal\n",
    "#to create a predictive model that will assist telecom providers in identifying and preventing churning customers."
   ]
  },
  {
   "cell_type": "code",
   "execution_count": null,
   "id": "656f686f-ac2c-4a5c-966b-fd19a14bf6e8",
   "metadata": {},
   "outputs": [],
   "source": [
    "# Revenue is directly impacted by customer attrition. It is five times less expensive to keep an existing customer than to find a new one. Telecom companies can provide incentives or interventions to retain potential churners by identifying them early."
   ]
  },
  {
   "cell_type": "code",
   "execution_count": 1,
   "id": "d5247371-8c2e-4293-8a51-cacb3767c7bb",
   "metadata": {},
   "outputs": [],
   "source": [
    "#import libraries \n",
    "import pandas as pd\n",
    "import numpy as np\n",
    "import matplotlib.pyplot as plt \n",
    "import seaborn as sns "
   ]
  },
  {
   "cell_type": "code",
   "execution_count": 7,
   "id": "5cc858bf-88c2-4702-ace5-75d86e53260a",
   "metadata": {},
   "outputs": [],
   "source": [
    "from sklearn.preprocessing import LabelEncoder, StandardScaler"
   ]
  },
  {
   "cell_type": "code",
   "execution_count": 9,
   "id": "89969eda-9c7d-44dd-b37d-e4da0cb036d1",
   "metadata": {},
   "outputs": [],
   "source": [
    "from sklearn.model_selection import train_test_split\n",
    "from sklearn.linear_model import LogisticRegression  \n",
    "from sklearn.ensemble import RandomForestRegressor  "
   ]
  },
  {
   "cell_type": "code",
   "execution_count": 14,
   "id": "805e9415-5e1d-47fb-a7fd-1f40a77b2c2a",
   "metadata": {},
   "outputs": [],
   "source": [
    "import xgboost as xgb"
   ]
  },
  {
   "cell_type": "code",
   "execution_count": 15,
   "id": "fe2d020e-a969-4e02-bafc-dcc36e11548a",
   "metadata": {},
   "outputs": [],
   "source": [
    "from sklearn.metrics import accuracy_score, precision_score, recall_score, roc_auc_score"
   ]
  },
  {
   "cell_type": "code",
   "execution_count": 18,
   "id": "1fa74b46-f4ff-4fb5-a88d-f11316d1c77a",
   "metadata": {},
   "outputs": [],
   "source": [
    "df = pd.read_csv('WA_Fn-UseC_-Telco-Customer-Churn.csv')"
   ]
  },
  {
   "cell_type": "code",
   "execution_count": null,
   "id": "e1fb4e2c-1d02-48e9-a186-801b625e52dd",
   "metadata": {},
   "outputs": [],
   "source": [
    "DATA CLEANING"
   ]
  },
  {
   "cell_type": "code",
   "execution_count": 19,
   "id": "97898645-dc0c-4646-8525-10933267c27c",
   "metadata": {},
   "outputs": [
    {
     "name": "stdout",
     "output_type": "stream",
     "text": [
      "<class 'pandas.core.frame.DataFrame'>\n",
      "RangeIndex: 7043 entries, 0 to 7042\n",
      "Data columns (total 21 columns):\n",
      " #   Column            Non-Null Count  Dtype  \n",
      "---  ------            --------------  -----  \n",
      " 0   customerID        7043 non-null   object \n",
      " 1   gender            7043 non-null   object \n",
      " 2   SeniorCitizen     7043 non-null   int64  \n",
      " 3   Partner           7043 non-null   object \n",
      " 4   Dependents        7043 non-null   object \n",
      " 5   tenure            7043 non-null   int64  \n",
      " 6   PhoneService      7043 non-null   object \n",
      " 7   MultipleLines     7043 non-null   object \n",
      " 8   InternetService   7043 non-null   object \n",
      " 9   OnlineSecurity    7043 non-null   object \n",
      " 10  OnlineBackup      7043 non-null   object \n",
      " 11  DeviceProtection  7043 non-null   object \n",
      " 12  TechSupport       7043 non-null   object \n",
      " 13  StreamingTV       7043 non-null   object \n",
      " 14  StreamingMovies   7043 non-null   object \n",
      " 15  Contract          7043 non-null   object \n",
      " 16  PaperlessBilling  7043 non-null   object \n",
      " 17  PaymentMethod     7043 non-null   object \n",
      " 18  MonthlyCharges    7043 non-null   float64\n",
      " 19  TotalCharges      7043 non-null   object \n",
      " 20  Churn             7043 non-null   object \n",
      "dtypes: float64(1), int64(2), object(18)\n",
      "memory usage: 1.1+ MB\n"
     ]
    }
   ],
   "source": [
    "df.info()"
   ]
  },
  {
   "cell_type": "code",
   "execution_count": 21,
   "id": "48a809e7-8b4d-4847-8caf-ce55413917af",
   "metadata": {},
   "outputs": [
    {
     "data": {
      "text/plain": [
       "customerID          0\n",
       "gender              0\n",
       "SeniorCitizen       0\n",
       "Partner             0\n",
       "Dependents          0\n",
       "tenure              0\n",
       "PhoneService        0\n",
       "MultipleLines       0\n",
       "InternetService     0\n",
       "OnlineSecurity      0\n",
       "OnlineBackup        0\n",
       "DeviceProtection    0\n",
       "TechSupport         0\n",
       "StreamingTV         0\n",
       "StreamingMovies     0\n",
       "Contract            0\n",
       "PaperlessBilling    0\n",
       "PaymentMethod       0\n",
       "MonthlyCharges      0\n",
       "TotalCharges        0\n",
       "Churn               0\n",
       "dtype: int64"
      ]
     },
     "execution_count": 21,
     "metadata": {},
     "output_type": "execute_result"
    }
   ],
   "source": [
    "df.isnull().sum()"
   ]
  },
  {
   "cell_type": "code",
   "execution_count": 22,
   "id": "7e7c97c5-0931-4b17-85ce-a750f7dbbdcc",
   "metadata": {},
   "outputs": [
    {
     "data": {
      "text/html": [
       "<div>\n",
       "<style scoped>\n",
       "    .dataframe tbody tr th:only-of-type {\n",
       "        vertical-align: middle;\n",
       "    }\n",
       "\n",
       "    .dataframe tbody tr th {\n",
       "        vertical-align: top;\n",
       "    }\n",
       "\n",
       "    .dataframe thead th {\n",
       "        text-align: right;\n",
       "    }\n",
       "</style>\n",
       "<table border=\"1\" class=\"dataframe\">\n",
       "  <thead>\n",
       "    <tr style=\"text-align: right;\">\n",
       "      <th></th>\n",
       "      <th>customerID</th>\n",
       "      <th>gender</th>\n",
       "      <th>SeniorCitizen</th>\n",
       "      <th>Partner</th>\n",
       "      <th>Dependents</th>\n",
       "      <th>tenure</th>\n",
       "      <th>PhoneService</th>\n",
       "      <th>MultipleLines</th>\n",
       "      <th>InternetService</th>\n",
       "      <th>OnlineSecurity</th>\n",
       "      <th>...</th>\n",
       "      <th>DeviceProtection</th>\n",
       "      <th>TechSupport</th>\n",
       "      <th>StreamingTV</th>\n",
       "      <th>StreamingMovies</th>\n",
       "      <th>Contract</th>\n",
       "      <th>PaperlessBilling</th>\n",
       "      <th>PaymentMethod</th>\n",
       "      <th>MonthlyCharges</th>\n",
       "      <th>TotalCharges</th>\n",
       "      <th>Churn</th>\n",
       "    </tr>\n",
       "  </thead>\n",
       "  <tbody>\n",
       "    <tr>\n",
       "      <th>0</th>\n",
       "      <td>7590-VHVEG</td>\n",
       "      <td>Female</td>\n",
       "      <td>0</td>\n",
       "      <td>Yes</td>\n",
       "      <td>No</td>\n",
       "      <td>1</td>\n",
       "      <td>No</td>\n",
       "      <td>No phone service</td>\n",
       "      <td>DSL</td>\n",
       "      <td>No</td>\n",
       "      <td>...</td>\n",
       "      <td>No</td>\n",
       "      <td>No</td>\n",
       "      <td>No</td>\n",
       "      <td>No</td>\n",
       "      <td>Month-to-month</td>\n",
       "      <td>Yes</td>\n",
       "      <td>Electronic check</td>\n",
       "      <td>29.85</td>\n",
       "      <td>29.85</td>\n",
       "      <td>No</td>\n",
       "    </tr>\n",
       "    <tr>\n",
       "      <th>1</th>\n",
       "      <td>5575-GNVDE</td>\n",
       "      <td>Male</td>\n",
       "      <td>0</td>\n",
       "      <td>No</td>\n",
       "      <td>No</td>\n",
       "      <td>34</td>\n",
       "      <td>Yes</td>\n",
       "      <td>No</td>\n",
       "      <td>DSL</td>\n",
       "      <td>Yes</td>\n",
       "      <td>...</td>\n",
       "      <td>Yes</td>\n",
       "      <td>No</td>\n",
       "      <td>No</td>\n",
       "      <td>No</td>\n",
       "      <td>One year</td>\n",
       "      <td>No</td>\n",
       "      <td>Mailed check</td>\n",
       "      <td>56.95</td>\n",
       "      <td>1889.5</td>\n",
       "      <td>No</td>\n",
       "    </tr>\n",
       "    <tr>\n",
       "      <th>2</th>\n",
       "      <td>3668-QPYBK</td>\n",
       "      <td>Male</td>\n",
       "      <td>0</td>\n",
       "      <td>No</td>\n",
       "      <td>No</td>\n",
       "      <td>2</td>\n",
       "      <td>Yes</td>\n",
       "      <td>No</td>\n",
       "      <td>DSL</td>\n",
       "      <td>Yes</td>\n",
       "      <td>...</td>\n",
       "      <td>No</td>\n",
       "      <td>No</td>\n",
       "      <td>No</td>\n",
       "      <td>No</td>\n",
       "      <td>Month-to-month</td>\n",
       "      <td>Yes</td>\n",
       "      <td>Mailed check</td>\n",
       "      <td>53.85</td>\n",
       "      <td>108.15</td>\n",
       "      <td>Yes</td>\n",
       "    </tr>\n",
       "    <tr>\n",
       "      <th>3</th>\n",
       "      <td>7795-CFOCW</td>\n",
       "      <td>Male</td>\n",
       "      <td>0</td>\n",
       "      <td>No</td>\n",
       "      <td>No</td>\n",
       "      <td>45</td>\n",
       "      <td>No</td>\n",
       "      <td>No phone service</td>\n",
       "      <td>DSL</td>\n",
       "      <td>Yes</td>\n",
       "      <td>...</td>\n",
       "      <td>Yes</td>\n",
       "      <td>Yes</td>\n",
       "      <td>No</td>\n",
       "      <td>No</td>\n",
       "      <td>One year</td>\n",
       "      <td>No</td>\n",
       "      <td>Bank transfer (automatic)</td>\n",
       "      <td>42.30</td>\n",
       "      <td>1840.75</td>\n",
       "      <td>No</td>\n",
       "    </tr>\n",
       "    <tr>\n",
       "      <th>4</th>\n",
       "      <td>9237-HQITU</td>\n",
       "      <td>Female</td>\n",
       "      <td>0</td>\n",
       "      <td>No</td>\n",
       "      <td>No</td>\n",
       "      <td>2</td>\n",
       "      <td>Yes</td>\n",
       "      <td>No</td>\n",
       "      <td>Fiber optic</td>\n",
       "      <td>No</td>\n",
       "      <td>...</td>\n",
       "      <td>No</td>\n",
       "      <td>No</td>\n",
       "      <td>No</td>\n",
       "      <td>No</td>\n",
       "      <td>Month-to-month</td>\n",
       "      <td>Yes</td>\n",
       "      <td>Electronic check</td>\n",
       "      <td>70.70</td>\n",
       "      <td>151.65</td>\n",
       "      <td>Yes</td>\n",
       "    </tr>\n",
       "  </tbody>\n",
       "</table>\n",
       "<p>5 rows × 21 columns</p>\n",
       "</div>"
      ],
      "text/plain": [
       "   customerID  gender  SeniorCitizen Partner Dependents  tenure PhoneService  \\\n",
       "0  7590-VHVEG  Female              0     Yes         No       1           No   \n",
       "1  5575-GNVDE    Male              0      No         No      34          Yes   \n",
       "2  3668-QPYBK    Male              0      No         No       2          Yes   \n",
       "3  7795-CFOCW    Male              0      No         No      45           No   \n",
       "4  9237-HQITU  Female              0      No         No       2          Yes   \n",
       "\n",
       "      MultipleLines InternetService OnlineSecurity  ... DeviceProtection  \\\n",
       "0  No phone service             DSL             No  ...               No   \n",
       "1                No             DSL            Yes  ...              Yes   \n",
       "2                No             DSL            Yes  ...               No   \n",
       "3  No phone service             DSL            Yes  ...              Yes   \n",
       "4                No     Fiber optic             No  ...               No   \n",
       "\n",
       "  TechSupport StreamingTV StreamingMovies        Contract PaperlessBilling  \\\n",
       "0          No          No              No  Month-to-month              Yes   \n",
       "1          No          No              No        One year               No   \n",
       "2          No          No              No  Month-to-month              Yes   \n",
       "3         Yes          No              No        One year               No   \n",
       "4          No          No              No  Month-to-month              Yes   \n",
       "\n",
       "               PaymentMethod MonthlyCharges  TotalCharges Churn  \n",
       "0           Electronic check          29.85         29.85    No  \n",
       "1               Mailed check          56.95        1889.5    No  \n",
       "2               Mailed check          53.85        108.15   Yes  \n",
       "3  Bank transfer (automatic)          42.30       1840.75    No  \n",
       "4           Electronic check          70.70        151.65   Yes  \n",
       "\n",
       "[5 rows x 21 columns]"
      ]
     },
     "execution_count": 22,
     "metadata": {},
     "output_type": "execute_result"
    }
   ],
   "source": [
    "df.head()"
   ]
  },
  {
   "cell_type": "code",
   "execution_count": 25,
   "id": "0a77cd77-f34e-4dec-83cd-bfdc453d32ce",
   "metadata": {
    "scrolled": true
   },
   "outputs": [],
   "source": [
    "# there are some ' ' in totalcharges, convert to NaN then impute\n",
    "df['TotalCharges'] = pd.to_numeric(df['TotalCharges'], errors='coerce')\n",
    "df['TotalCharges'] = df['TotalCharges'].fillna(df['TotalCharges'].median())\n"
   ]
  },
  {
   "cell_type": "code",
   "execution_count": 26,
   "id": "c06e1ca9-11db-4861-86fa-909c3b06c65a",
   "metadata": {},
   "outputs": [
    {
     "data": {
      "text/plain": [
       "Index(['customerID', 'gender', 'SeniorCitizen', 'Partner', 'Dependents',\n",
       "       'tenure', 'PhoneService', 'MultipleLines', 'InternetService',\n",
       "       'OnlineSecurity', 'OnlineBackup', 'DeviceProtection', 'TechSupport',\n",
       "       'StreamingTV', 'StreamingMovies', 'Contract', 'PaperlessBilling',\n",
       "       'PaymentMethod', 'MonthlyCharges', 'TotalCharges', 'Churn'],\n",
       "      dtype='object')"
      ]
     },
     "execution_count": 26,
     "metadata": {},
     "output_type": "execute_result"
    }
   ],
   "source": [
    "df.columns"
   ]
  },
  {
   "cell_type": "code",
   "execution_count": 27,
   "id": "3bd1aa35-d355-4c9d-9c28-a8c1b6ba14cc",
   "metadata": {},
   "outputs": [],
   "source": [
    "from sklearn.preprocessing import LabelEncoder, OneHotEncoder "
   ]
  },
  {
   "cell_type": "code",
   "execution_count": 28,
   "id": "e4b1fc88-04d3-4762-ab3d-eddf566871ae",
   "metadata": {},
   "outputs": [],
   "source": [
    "#LabelEncoding for binary categories  \n",
    "le = LabelEncoder()\n",
    "df['gender']= le.fit_transform(df['gender'])"
   ]
  },
  {
   "cell_type": "code",
   "execution_count": 34,
   "id": "c40d3e59-6391-4826-ac67-c846ae8c3d68",
   "metadata": {
    "scrolled": true
   },
   "outputs": [],
   "source": [
    "#OneHotEncoding for multi-category columns \n",
    "df = pd.get_dummies(df, columns=['Contract'], drop_first=True)"
   ]
  },
  {
   "cell_type": "code",
   "execution_count": 35,
   "id": "aa2a9f7c-48d6-490a-82f3-1a66746ffff4",
   "metadata": {},
   "outputs": [],
   "source": [
    "df = df.drop_duplicates()\n"
   ]
  },
  {
   "cell_type": "code",
   "execution_count": 36,
   "id": "2e8b6a5e-74cd-4266-86bd-946ee9a9badf",
   "metadata": {},
   "outputs": [],
   "source": [
    "#Handel outliners \n",
    "\n",
    "q1 = df['tenure'].quantile(0.25)\n",
    "q3= df['tenure'].quantile(0.75)\n",
    "iqr = q3 - q1 \n",
    "\n",
    "lower_bound = q1 - 1.5* iqr\n",
    "upper_bound = q3 + 1.5* iqr\n",
    "df = df[(df ['tenure']>= lower_bound)& (df ['tenure']<= upper_bound )]"
   ]
  },
  {
   "cell_type": "code",
   "execution_count": null,
   "id": "619732af-2e11-483a-be32-374710b1da5b",
   "metadata": {},
   "outputs": [],
   "source": [
    "EXPLORATORY DATA ANALYSIS (EDA)"
   ]
  },
  {
   "cell_type": "code",
   "execution_count": 39,
   "id": "8d07f8c7-749a-4ffa-a6ed-b7037a41f3a0",
   "metadata": {},
   "outputs": [
    {
     "name": "stderr",
     "output_type": "stream",
     "text": [
      "C:\\Users\\HP\\AppData\\Local\\Temp\\ipykernel_5340\\1107500702.py:5: FutureWarning: \n",
      "\n",
      "Passing `palette` without assigning `hue` is deprecated and will be removed in v0.14.0. Assign the `x` variable to `hue` and set `legend=False` for the same effect.\n",
      "\n",
      "  ax = sns.countplot(x='Churn', data=df, palette=colors)\n"
     ]
    },
    {
     "data": {
      "image/png": "[encoded data removed]",
      "text/plain": [
       "<Figure size 640x480 with 1 Axes>"
      ]
     },
     "metadata": {},
     "output_type": "display_data"
    }
   ],
   "source": [
    "\n",
    "\n",
    "# Define custom colors for 'No' and 'Yes'\n",
    "colors = ['#FF6347', '#32CD32'] # Tomato (reddish) for 'No', LimeGreen for 'Yes'\n",
    "\n",
    "# Create the countplot\n",
    "ax = sns.countplot(x='Churn', data=df, palette=colors)\n",
    "\n",
    "# Add exact labels (counts) on top of the bars\n",
    "for container in ax.containers: # Iterate over the bar containers\n",
    "    ax.bar_label(container, fmt='%d') # Add labels to each bar, formatted as integers\n",
    "\n",
    "# Add a title for clarity\n",
    "plt.title('Distribution of Churn (No vs. Yes)', fontsize=14)\n",
    "plt.xlabel('Churn Status', fontsize=12)\n",
    "plt.ylabel('Number of Customers', fontsize=12)\n",
    "\n",
    "# Display the plot\n",
    "plt.show()"
   ]
  },
  {
   "cell_type": "code",
   "execution_count": null,
   "id": "39b5891b-a88c-47b5-af23-a7aa05eca5b3",
   "metadata": {},
   "outputs": [],
   "source": [
    "#This bar chart shows the total count of customers by their churn status. A significant majority of customers (around 5100-5200) did not churn, while a notable portion\n",
    "#The dataset exhibits an imbalanced class distribution, with more non-churners than churners. This is common in churn prediction and requires attention during model training."
   ]
  },
  {
   "cell_type": "code",
   "execution_count": 45,
   "id": "48d0a3cc-c765-4c52-b1e1-78f1f221b4ae",
   "metadata": {
    "scrolled": true
   },
   "outputs": [
    {
     "data": {
      "image/png": "[encoded data removed]",
      "text/plain": [
       "<Figure size 640x480 with 1 Axes>"
      ]
     },
     "metadata": {},
     "output_type": "display_data"
    }
   ],
   "source": [
    "\n",
    "# Green for 'No' (retained), Red for 'Yes' (churned)\n",
    "churn_colors = ['#32CD32', '#FF6347']\n",
    "\n",
    "# Create the countplot for Gender vs. Churn\n",
    "ax = sns.countplot(data=df, x='gender', hue='Churn', palette=churn_colors)\n",
    "\n",
    "# Add exact labels (counts) on top of the bars\n",
    "for container in ax.containers:\n",
    "    ax.bar_label(container, fmt='%d')\n",
    "\n",
    "# Add titles and labels for clarity\n",
    "plt.title('Churn Distribution by Gender', fontsize=14)\n",
    "plt.xlabel('Gender', fontsize=12)\n",
    "plt.ylabel('Number of Customers', fontsize=12)\n",
    "plt.legend(title='Churn', loc='upper right') # Ensure legend is clear\n",
    "\n",
    "plt.show()"
   ]
  },
  {
   "cell_type": "code",
   "execution_count": null,
   "id": "50cec584-e6e9-402f-8a3f-eb8c192378b9",
   "metadata": {},
   "outputs": [],
   "source": [
    "#For Female customers: Roughly 2500 did not churn, while around 900-1000 did churn.\n",
    "#For Male customers: Roughly 2500 did not churn, while around 900-1000 did churn. \n",
    "\n",
    "#The plot visually demonstrates that the number of churned customers is relatively similar between genders. There isn't a significant imbalance or strong trend indicating that one gender churns at a drastically different rate than the other."
   ]
  },
  {
   "cell_type": "code",
   "execution_count": 55,
   "id": "6ee28683-13ff-4568-924a-d0430fbe53c2",
   "metadata": {
    "scrolled": true
   },
   "outputs": [
    {
     "data": {
      "image/png": "[encoded data removed]",
      "text/plain": [
       "<Figure size 1500x300 with 1 Axes>"
      ]
     },
     "metadata": {},
     "output_type": "display_data"
    }
   ],
   "source": [
    "\n",
    "\n",
    "sns.set(rc={'figure.figsize':(15,3)}) # Corrected 'figure.flagsize' to 'figure.figsize'\n",
    "\n",
    "ax = sns.countplot(x='gender',data = df)\n",
    "\n",
    "for bar in ax.containers: \n",
    "    ax.bar_label(bar) \n",
    "plt.show()\n"
   ]
  },
  {
   "cell_type": "code",
   "execution_count": 58,
   "id": "2bf6e8a8-2be8-4fc7-b4d0-14a0a2e36d72",
   "metadata": {
    "scrolled": true
   },
   "outputs": [
    {
     "name": "stderr",
     "output_type": "stream",
     "text": [
      "C:\\Users\\HP\\AppData\\Local\\Temp\\ipykernel_5340\\75614586.py:8: FutureWarning: \n",
      "\n",
      "Passing `palette` without assigning `hue` is deprecated and will be removed in v0.14.0. Assign the `x` variable to `hue` and set `legend=False` for the same effect.\n",
      "\n",
      "  sns.boxplot(x='Churn', y='tenure', data=df, palette=churn_colors)\n"
     ]
    },
    {
     "data": {
      "image/png": "[encoded data removed]",
      "text/plain": [
       "<Figure size 700x500 with 1 Axes>"
      ]
     },
     "metadata": {},
     "output_type": "display_data"
    }
   ],
   "source": [
    "\n",
    "\n",
    "# Define colors: Green for 'No' (retained), Red for 'Yes' (churned)\n",
    "churn_colors = ['#32CD32', '#FF6347']\n",
    "\n",
    "plt.figure(figsize=(7, 5)) # Set figure size\n",
    "sns.boxplot(x='Churn', y='tenure', data=df, palette=churn_colors)\n",
    "\n",
    "plt.title('Customer Tenure Distribution by Churn Status')\n",
    "plt.xlabel('Churn Status')\n",
    "plt.ylabel('Tenure (Months)')\n",
    "plt.show()\n"
   ]
  },
  {
   "cell_type": "code",
   "execution_count": null,
   "id": "e3c41b94-88bb-410a-8d0e-4085d2f5bf84",
   "metadata": {},
   "outputs": [],
   "source": [
    "#Customers with shorter tenures are significantly more likely to churn. This highlights the importance of early engagement and retention strategies for new customers."
   ]
  },
  {
   "cell_type": "code",
   "execution_count": 62,
   "id": "fd3987a0-08da-432b-a246-b760c5c9e77b",
   "metadata": {},
   "outputs": [
    {
     "data": {
      "image/png": "[encoded data removed]",
      "text/plain": [
       "<Figure size 800x500 with 1 Axes>"
      ]
     },
     "metadata": {},
     "output_type": "display_data"
    }
   ],
   "source": [
    "\n",
    "#  Calculate Churn Rate by Original Contract Type \n",
    "df_temp['Churn_Numeric'] = df_temp['Churn'].apply(lambda x: 1 if x == 'Yes' else 0)\n",
    "\n",
    "# Calculate the mean churn rate for each contract type using df_temp\n",
    "contract_churn = df_temp.groupby('Contract')['Churn_Numeric'].mean()\n",
    "\n",
    "# Plot Churn Rate by Contract Type \n",
    "plt.figure(figsize=(8, 5)) # Set figure size\n",
    "ax = contract_churn.plot(kind='bar', color=['skyblue', 'lightcoral', 'lightgreen']) # Example colors\n",
    "plt.title('Churn Rate by Contract Type')\n",
    "plt.xlabel('Contract Type')\n",
    "plt.ylabel('Churn Rate (Proportion of Churn)')\n",
    "plt.xticks(rotation=45, ha='right') # Rotate labels for readability\n",
    "plt.ylim(0, 1) # Churn rate is a proportion\n",
    "\n",
    "# Add value labels on top of bars\n",
    "for container in ax.containers:\n",
    "    ax.bar_label(container, fmt='%.2f') # Format to 2 decimal places\n",
    "\n",
    "plt.tight_layout()\n",
    "plt.show()\n",
    "\n",
    "\n"
   ]
  },
  {
   "cell_type": "code",
   "execution_count": null,
   "id": "299b80e1-f7fb-405a-9fb2-562f7c7a46f4",
   "metadata": {},
   "outputs": [],
   "source": [
    "#Contract type is a critical determinant of churn. Month-to-month contracts are highly associated with churn, emphasizing the need to incentivize customers to sign longer-term commitments."
   ]
  },
  {
   "cell_type": "code",
   "execution_count": null,
   "id": "681e2360-124e-4ddb-8228-4922540b34aa",
   "metadata": {},
   "outputs": [],
   "source": [
    "\n",
    "\n",
    "FEATURE ENGINEERING"
   ]
  },
  {
   "cell_type": "code",
   "execution_count": 63,
   "id": "89ff724d-70a2-4c15-8d16-b11e9daebbd9",
   "metadata": {},
   "outputs": [],
   "source": [
    "df['TotalServices'] = df[['PhoneService', 'MultipleLines', 'InternetService', 'OnlineSecurity',\n",
    "                          'OnlineBackup', 'DeviceProtection', 'TechSupport', 'StreamingTV',\n",
    "                          'StreamingMovies']].sum(axis=1)\n"
   ]
  },
  {
   "cell_type": "code",
   "execution_count": 67,
   "id": "16626f3f-1eff-4d2c-b7aa-a001c74df16b",
   "metadata": {},
   "outputs": [
    {
     "name": "stdout",
     "output_type": "stream",
     "text": [
      "Successfully created 'TotalServices' numerical column.\n",
      "First 5 values of 'TotalServices':\n",
      "0    1\n",
      "1    3\n",
      "2    3\n",
      "3    3\n",
      "4    1\n",
      "Name: TotalServices, dtype: int64\n",
      "\n",
      "Data types of numerical columns before scaling:\n",
      "tenure            float64\n",
      "MonthlyCharges    float64\n",
      "TotalCharges      float64\n",
      "TotalServices       int64\n",
      "dtype: object\n",
      "\n",
      "Numerical features scaled successfully.\n",
      "First 5 rows of scaled numerical data:\n",
      "     tenure  MonthlyCharges  TotalCharges  TotalServices\n",
      "0 -1.277445       -1.160323     -0.994242      -1.145997\n",
      "1  0.066327       -0.259629     -0.173244      -0.176011\n",
      "2 -1.236724       -0.362660     -0.959674      -0.176011\n",
      "3  0.514251       -0.746535     -0.194766      -0.176011\n",
      "4 -1.236724        0.197365     -0.940470      -1.145997\n"
     ]
    }
   ],
   "source": [
    "# Correctly create the 'TotalServices' numerical feature \n",
    "# Identify all service-related columns that are typically 'Yes'/'No' or 'No service'\n",
    "service_columns = [\n",
    "    'PhoneService', 'MultipleLines', 'InternetService', 'OnlineSecurity',\n",
    "    'OnlineBackup', 'DeviceProtection', 'TechSupport', 'StreamingTV', 'StreamingMovies'\n",
    "]\n",
    "\n",
    "# Create a temporary DataFrame to hold numeric representations of services\n",
    "numeric_services = pd.DataFrame()\n",
    "\n",
    "for col in service_columns:\n",
    "    if col in df.columns: # Check if the column actually exists in your DataFrame\n",
    "        # Map 'Yes' to 1, and any form of 'No' or 'No service' to 0\n",
    "        # Use .astype(int) to ensure the column is integer type after mapping\n",
    "        numeric_services[col] = df[col].map({\n",
    "            'Yes': 1,\n",
    "            'No': 0,\n",
    "            'No phone service': 0,\n",
    "            'No internet service': 0\n",
    "        }).fillna(0).astype(int) # .fillna(0) handles any unexpected NaN after mapping\n",
    "\n",
    "# Sum these new numeric service columns to get 'TotalServices'\n",
    "df['TotalServices'] = numeric_services.sum(axis=1)\n",
    "print(\"Successfully created 'TotalServices' numerical column.\")\n",
    "print(f\"First 5 values of 'TotalServices':\\n{df['TotalServices'].head()}\")\n",
    "\n",
    "\n",
    "# 2. Define numerical columns to scale \n",
    "# Now 'TotalServices' should be numeric\n",
    "num_cols = ['tenure', 'MonthlyCharges', 'TotalCharges', 'TotalServices']\n",
    "\n",
    "# Verify dtypes before scaling \n",
    "print(\"\\nData types of numerical columns before scaling:\")\n",
    "print(df[num_cols].dtypes)\n",
    "\n",
    "#  Scale numerical features \n",
    "scaler = StandardScaler()\n",
    "df[num_cols] = scaler.fit_transform(df[num_cols])\n",
    "\n",
    "\n",
    "print(\"\\nNumerical features scaled successfully.\")\n",
    "print(\"First 5 rows of scaled numerical data:\")\n",
    "print(df[num_cols].head())"
   ]
  },
  {
   "cell_type": "code",
   "execution_count": 68,
   "id": "cee1e068-6d78-4b37-bf9e-5e5c6b9789e9",
   "metadata": {},
   "outputs": [],
   "source": [
    "# Split data\n",
    "X = df.drop('Churn', axis=1)\n",
    "y = df['Churn']\n",
    "\n",
    "X_train, X_test, y_train, y_test = train_test_split(X, y, test_size=0.2, random_state=42)"
   ]
  },
  {
   "cell_type": "code",
   "execution_count": 69,
   "id": "e927ac6f-3ab0-4053-b8f9-a65093f5b455",
   "metadata": {},
   "outputs": [],
   "source": [
    "# Model Training & Evaluation Function\n",
    "def evaluate_model(model, X_train, y_train, X_test, y_test):\n",
    "    model.fit(X_train, y_train)\n",
    "    preds = model.predict(X_test)\n",
    "    proba = model.predict_proba(X_test)[:, 1]\n",
    "    \n",
    "    print(f\"Model: {model.__class__.__name__}\")\n",
    "    print(\"Accuracy:\", accuracy_score(y_test, preds))\n",
    "    print(\"Precision:\", precision_score(y_test, preds))\n",
    "    print(\"Recall:\", recall_score(y_test, preds))\n",
    "    print(\"F1 Score:\", f1_score(y_test, preds))\n",
    "    print(\"ROC-AUC:\", roc_auc_score(y_test, proba))\n",
    "    print()\n",
    "    return model\n"
   ]
  },
  {
   "cell_type": "code",
   "execution_count": 75,
   "id": "254f83de-47aa-47a2-a641-01a8b347d505",
   "metadata": {
    "scrolled": true
   },
   "outputs": [
    {
     "name": "stdout",
     "output_type": "stream",
     "text": [
      "Dataset loaded successfully.\n",
      "'TotalCharges' column processed.\n",
      "'TotalServices' column created.\n",
      "'customerID' column dropped.\n",
      "'Churn' column encoded to numeric (1=Yes, 0=No).\n",
      "Categorical columns one-hot encoded.\n",
      "Data split into training and testing sets.\n",
      "Numerical features scaled.\n",
      "NaN values imputed.\n",
      "\n",
      "--- LogisticRegression Results ---\n",
      "Accuracy: 0.8048\n",
      "Precision: 0.6562\n",
      "Recall: 0.5561\n",
      "F1-Score: 0.6020\n",
      "ROC AUC: 0.8420\n"
     ]
    },
    {
     "data": {
      "image/png": "[encoded data removed]",
      "text/plain": [
       "<Figure size 500x400 with 2 Axes>"
      ]
     },
     "metadata": {},
     "output_type": "display_data"
    }
   ],
   "source": [
    "import pandas as pd\n",
    "import numpy as np # For potential NaN handling (e.g., np.nan)\n",
    "from sklearn.model_selection import train_test_split\n",
    "from sklearn.preprocessing import StandardScaler, LabelEncoder\n",
    "from sklearn.linear_model import LogisticRegression\n",
    "from sklearn.impute import SimpleImputer # Import SimpleImputer\n",
    "from sklearn.metrics import accuracy_score, precision_score, recall_score, f1_score, roc_auc_score, confusion_matrix\n",
    "import matplotlib.pyplot as plt\n",
    "import seaborn as sns\n",
    "\n",
    "# --- 1. Load Data & Initial Preprocessing ---\n",
    "try:\n",
    "    df = pd.read_csv('WA_Fn-UseC_-Telco-Customer-Churn.csv')\n",
    "    print(\"Dataset loaded successfully.\")\n",
    "except FileNotFoundError:\n",
    "    print(\"Error: Dataset 'WA_Fn-UseC_-Telco-Customer-Churn.csv' not found. Check your file path.\")\n",
    "    exit()\n",
    "\n",
    "# Handle TotalCharges\n",
    "df['TotalCharges'] = pd.to_numeric(df['TotalCharges'], errors='coerce')\n",
    "df['TotalCharges'] = df['TotalCharges'].fillna(df['TotalCharges'].median())\n",
    "print(\"'TotalCharges' column processed.\")\n",
    "\n",
    "# Create TotalServices feature\n",
    "service_cols = ['PhoneService', 'MultipleLines', 'InternetService', 'OnlineSecurity',\n",
    "                'OnlineBackup', 'DeviceProtection', 'TechSupport', 'StreamingTV', 'StreamingMovies']\n",
    "numeric_services = pd.DataFrame()\n",
    "for col in service_cols:\n",
    "    if col in df.columns:\n",
    "        numeric_services[col] = df[col].map({'Yes': 1, 'No': 0, 'No phone service': 0, 'No internet service': 0}).fillna(0).astype(int)\n",
    "df['TotalServices'] = numeric_services.sum(axis=1)\n",
    "print(\"'TotalServices' column created.\")\n",
    "\n",
    "# Drop CustomerID as it's not a feature\n",
    "df = df.drop('customerID', axis=1)\n",
    "print(\"'customerID' column dropped.\")\n",
    "\n",
    "# Encode 'Churn' (target variable)\n",
    "le = LabelEncoder()\n",
    "df['Churn'] = le.fit_transform(df['Churn']) # 'Yes' -> 1, 'No' -> 0\n",
    "print(\"'Churn' column encoded to numeric (1=Yes, 0=No).\")\n",
    "\n",
    "# One-hot encode remaining categorical columns\n",
    "categorical_cols = df.select_dtypes(include='object').columns.tolist()\n",
    "df = pd.get_dummies(df, columns=categorical_cols, drop_first=True)\n",
    "print(\"Categorical columns one-hot encoded.\")\n",
    "\n",
    "\n",
    "# --- 2. Prepare Data for Model ---\n",
    "X = df.drop('Churn', axis=1) # Features\n",
    "y = df['Churn'] # Target\n",
    "\n",
    "X_train, X_test, y_train, y_test = train_test_split(X, y, test_size=0.2, random_state=42, stratify=y)\n",
    "print(\"Data split into training and testing sets.\")\n",
    "\n",
    "# --- 3. Scale Numerical Features ---\n",
    "numerical_features = ['tenure', 'MonthlyCharges', 'TotalCharges', 'TotalServices']\n",
    "scaler = StandardScaler()\n",
    "X_train[numerical_features] = scaler.fit_transform(X_train[numerical_features])\n",
    "X_test[numerical_features] = scaler.transform(X_test[numerical_features])\n",
    "print(\"Numerical features scaled.\")\n",
    "\n",
    "# --- 4. Impute any remaining NaN values ---\n",
    "# This step is crucial for models that don't handle NaNs natively (like Logistic Regression)\n",
    "# We will impute with the median value of each column.\n",
    "imputer = SimpleImputer(strategy='median')\n",
    "\n",
    "# Fit the imputer on X_train and transform both X_train and X_test\n",
    "X_train_imputed = pd.DataFrame(imputer.fit_transform(X_train), columns=X_train.columns)\n",
    "X_test_imputed = pd.DataFrame(imputer.transform(X_test), columns=X_test.columns)\n",
    "\n",
    "print(\"NaN values imputed.\")\n",
    "# Optional: Verify no NaNs left\n",
    "# print(f\"NaNs in X_train_imputed: {X_train_imputed.isnull().sum().sum()}\")\n",
    "# print(f\"NaNs in X_test_imputed: {X_test_imputed.isnull().sum().sum()}\")\n",
    "\n",
    "\n",
    "# --- 5. Model Training & Evaluation ---\n",
    "def evaluate_model(model, X_train_imputed, y_train, X_test_imputed, y_test): # Updated parameter names\n",
    "    print(f\"\\n--- {type(model).__name__} Results ---\")\n",
    "    model.fit(X_train_imputed, y_train) # Use imputed data for fitting\n",
    "    preds = model.predict(X_test_imputed) # Use imputed data for predicting\n",
    "    proba = model.predict_proba(X_test_imputed)[:, 1]\n",
    "\n",
    "    print(f\"Accuracy: {accuracy_score(y_test, preds):.4f}\")\n",
    "    print(f\"Precision: {precision_score(y_test, preds):.4f}\")\n",
    "    print(f\"Recall: {recall_score(y_test, preds):.4f}\")\n",
    "    print(f\"F1-Score: {f1_score(y_test, preds):.4f}\")\n",
    "    print(f\"ROC AUC: {roc_auc_score(y_test, proba):.4f}\")\n",
    "\n",
    "    # Confusion Matrix (simplified plot)\n",
    "    cm = confusion_matrix(y_test, preds)\n",
    "    plt.figure(figsize=(5, 4))\n",
    "    sns.heatmap(cm, annot=True, fmt='d', cmap='Blues',\n",
    "                xticklabels=['No Churn', 'Churn'], yticklabels=['No Churn', 'Churn'])\n",
    "    plt.title('Confusion Matrix')\n",
    "    plt.ylabel('Actual')\n",
    "    plt.xlabel('Predicted')\n",
    "    plt.show()\n",
    "\n",
    "# Logistic Regression\n",
    "lr_model = LogisticRegression(max_iter=1000, random_state=42)\n",
    "evaluate_model(lr_model, X_train_imputed, y_train, X_test_imputed, y_test) # Pass imputed data"
   ]
  },
  {
   "cell_type": "code",
   "execution_count": 1,
   "id": "5e1a23ad-fdc9-4402-bf4d-a01e9ec186f5",
   "metadata": {},
   "outputs": [
    {
     "ename": "ModuleNotFoundError",
     "evalue": "No module named 'streamlit'",
     "output_type": "error",
     "traceback": [
      "\u001b[31m---------------------------------------------------------------------------\u001b[39m",
      "\u001b[31mModuleNotFoundError\u001b[39m                       Traceback (most recent call last)",
      "\u001b[36mCell\u001b[39m\u001b[36m \u001b[39m\u001b[32mIn[1]\u001b[39m\u001b[32m, line 3\u001b[39m\n\u001b[32m      1\u001b[39m \u001b[38;5;66;03m# save this as app.py\u001b[39;00m\n\u001b[32m----> \u001b[39m\u001b[32m3\u001b[39m \u001b[38;5;28;01mimport\u001b[39;00m\u001b[38;5;250m \u001b[39m\u001b[34;01mstreamlit\u001b[39;00m\u001b[38;5;250m \u001b[39m\u001b[38;5;28;01mas\u001b[39;00m\u001b[38;5;250m \u001b[39m\u001b[34;01mst\u001b[39;00m\n\u001b[32m      4\u001b[39m \u001b[38;5;28;01mimport\u001b[39;00m\u001b[38;5;250m \u001b[39m\u001b[34;01mpandas\u001b[39;00m\u001b[38;5;250m \u001b[39m\u001b[38;5;28;01mas\u001b[39;00m\u001b[38;5;250m \u001b[39m\u001b[34;01mpd\u001b[39;00m\n\u001b[32m      5\u001b[39m \u001b[38;5;28;01mimport\u001b[39;00m\u001b[38;5;250m \u001b[39m\u001b[34;01mjoblib\u001b[39;00m\n",
      "\u001b[31mModuleNotFoundError\u001b[39m: No module named 'streamlit'"
     ]
    }
   ],
   "source": [
    "# save this as app.py\n",
    "\n",
    "import streamlit as st\n",
    "import pandas as pd\n",
    "import joblib\n",
    "\n",
    "# Load your trained model (save model in notebook by joblib.dump)\n",
    "model = joblib.load('churn_model.pkl')\n",
    "\n",
    "st.title(\"Telco Customer Churn Prediction\")\n",
    "\n",
    "uploaded_file = st.file_uploader(\"Upload CSV file for prediction\")\n",
    "\n",
    "if uploaded_file:\n",
    "    data = pd.read_csv(uploaded_file)\n",
    "    \n",
    "    # Preprocess data similar to notebook (encoding, scaling)\n",
    "    # For demo, assume data already preprocessed\n",
    "    \n",
    "    churn_prob = model.predict_proba(data)[:, 1]\n",
    "    data['Churn Probability'] = churn_prob\n",
    "    \n",
    "    st.write(data[['customerID', 'Churn Probability']])\n",
    "    \n",
    "    # Show histogram of churn probabilities\n",
    "    st.bar_chart(data['Churn Probability'])\n"
   ]
  },
  {
   "cell_type": "code",
   "execution_count": 82,
   "id": "2ac11760-f511-42dc-a9ad-aea018368903",
   "metadata": {},
   "outputs": [
    {
     "name": "stdout",
     "output_type": "stream",
     "text": [
      "\n",
      " Business Insights from Random Forest Feature Importance \n",
      "Top 3 features influencing churn:\n",
      "- **TotalCharges**: 0.1858\n",
      "- **tenure**: 0.1646\n",
      "- **MonthlyCharges**: 0.1568\n",
      "\n",
      " Actionable Recommendations based on Top Features \n",
      "\n",
      "TotalCharges: Low total charges (especially with short tenure) often indicate early dissatisfaction. Proactive outreach or initial 'satisfaction guarantee' periods could help retain these customers.\n",
      "\n",
      " Tenure : Shorter-tenure customers are more prone to churn. Enhance the onboarding experience, implement early engagement programs (e.g., welcome calls, service check-ins), and incentivize longer-term contracts within the first 6-12 months.\n",
      "\n",
      " MonthlyCharges: If high, review pricing strategies for high-usage tiers. Consider offering loyalty discounts or cost-saving bundle adjustments to prevent sticker shock.\n",
      "\n",
      "(Note: The specific recommendations are examples. Always cross-reference with your domain knowledge and deeper analysis of the relationship between these features and churn.)\n"
     ]
    }
   ],
   "source": [
    "# Business Insights from Random Forest Feature Importance ---\n",
    "print(\"\\n Business Insights from Random Forest Feature Importance \")\n",
    "print(\"Top 3 features influencing churn:\")\n",
    "top_features = sorted(zip(features, importances), key=lambda x: x[1], reverse=True)[:3]\n",
    "for feat, imp in top_features:\n",
    "    print(f\"- **{feat}**: {imp:.4f}\") \n",
    "print(\"\\n Actionable Recommendations based on Top Features \")\n",
    "\n",
    "\n",
    "for feat, _ in top_features:\n",
    "    if feat == 'MonthlyCharges':\n",
    "        print(\"\\n MonthlyCharges: If high, review pricing strategies for high-usage tiers. Consider offering loyalty discounts or cost-saving bundle adjustments to prevent sticker shock.\")\n",
    "    elif feat == 'tenure':\n",
    "        print(\"\\n Tenure : Shorter-tenure customers are more prone to churn. Enhance the onboarding experience, implement early engagement programs (e.g., welcome calls, service check-ins), and incentivize longer-term contracts within the first 6-12 months.\")\n",
    "    elif feat == 'TotalCharges':\n",
    "        print(\"\\nTotalCharges: Low total charges (especially with short tenure) often indicate early dissatisfaction. Proactive outreach or initial 'satisfaction guarantee' periods could help retain these customers.\")\n",
    "    elif 'Contract_' in feat: # Catch all contract types\n",
    "        if 'Two year' in feat:\n",
    "            print(\"\\n Contract Type (e.g., Two-year): If low churn, these are loyal customers. Ensure their continued satisfaction. If still a top churn driver, investigate contract renewal incentives.\")\n",
    "        elif 'One year' in feat or 'Month' in feat: # Implies month-to-month if drop_first=True\n",
    "            print(\"\\n Contract Type (e.g., Month-to-month): Customers on flexible contracts have significantly higher churn risk. Offer compelling incentives (discounts, free upgrades) to encourage migration to longer-term commitments.\")\n",
    "    elif 'InternetService_Fiber optic' in feat:\n",
    "        print(\"\\n InternetService (Fiber optic) : If fiber optic customers show high churn, investigate service reliability, perceived value for money, or aggressive competitor pricing. Consider enhanced tech support or faster issue resolution for this segment.\")\n",
    "    elif feat == 'TotalServices':\n",
    "        print(\"\\n TotalServices : Analyze if customers with fewer services are churning more. Proactively offer value-added services (e.g., online security, tech support) to increase 'stickiness' and perceived value.\")\n",
    "    \n",
    "\n",
    "print(\"\\n(Note: The specific recommendations are examples. Always cross-reference with your domain knowledge and deeper analysis of the relationship between these features and churn.)\")"
   ]
  },
  {
   "cell_type": "code",
   "execution_count": 5,
   "id": "3f7442b2-5421-4025-bb3e-cc15da3c0706",
   "metadata": {},
   "outputs": [],
   "source": [
    "\n",
    "\n",
    "df = pd.read_csv('WA_Fn-UseC_-Telco-Customer-Churn.csv')\n",
    "\n",
    "# After 'df' is created, you can then use it\n",
    "df.to_csv(\"cleaned_telco_churn.csv\", index=False)"
   ]
  },
  {
   "cell_type": "code",
   "execution_count": 3,
   "id": "36c2d5fb-2fe0-468e-833a-4aeff825a1db",
   "metadata": {},
   "outputs": [
    {
     "name": "stdout",
     "output_type": "stream",
     "text": [
      "   customerID  gender  SeniorCitizen Partner Dependents  tenure PhoneService  \\\n",
      "0  7590-VHVEG  Female              0     Yes         No       1           No   \n",
      "1  5575-GNVDE    Male              0      No         No      34          Yes   \n",
      "2  3668-QPYBK    Male              0      No         No       2          Yes   \n",
      "3  7795-CFOCW    Male              0      No         No      45           No   \n",
      "4  9237-HQITU  Female              0      No         No       2          Yes   \n",
      "\n",
      "      MultipleLines InternetService OnlineSecurity  ... DeviceProtection  \\\n",
      "0  No phone service             DSL             No  ...               No   \n",
      "1                No             DSL            Yes  ...              Yes   \n",
      "2                No             DSL            Yes  ...               No   \n",
      "3  No phone service             DSL            Yes  ...              Yes   \n",
      "4                No     Fiber optic             No  ...               No   \n",
      "\n",
      "  TechSupport StreamingTV StreamingMovies        Contract PaperlessBilling  \\\n",
      "0          No          No              No  Month-to-month              Yes   \n",
      "1          No          No              No        One year               No   \n",
      "2          No          No              No  Month-to-month              Yes   \n",
      "3         Yes          No              No        One year               No   \n",
      "4          No          No              No  Month-to-month              Yes   \n",
      "\n",
      "               PaymentMethod MonthlyCharges  TotalCharges Churn  \n",
      "0           Electronic check          29.85         29.85    No  \n",
      "1               Mailed check          56.95        1889.5    No  \n",
      "2               Mailed check          53.85        108.15   Yes  \n",
      "3  Bank transfer (automatic)          42.30       1840.75    No  \n",
      "4           Electronic check          70.70        151.65   Yes  \n",
      "\n",
      "[5 rows x 21 columns]\n",
      "<class 'pandas.core.frame.DataFrame'>\n",
      "RangeIndex: 7043 entries, 0 to 7042\n",
      "Data columns (total 21 columns):\n",
      " #   Column            Non-Null Count  Dtype  \n",
      "---  ------            --------------  -----  \n",
      " 0   customerID        7043 non-null   object \n",
      " 1   gender            7043 non-null   object \n",
      " 2   SeniorCitizen     7043 non-null   int64  \n",
      " 3   Partner           7043 non-null   object \n",
      " 4   Dependents        7043 non-null   object \n",
      " 5   tenure            7043 non-null   int64  \n",
      " 6   PhoneService      7043 non-null   object \n",
      " 7   MultipleLines     7043 non-null   object \n",
      " 8   InternetService   7043 non-null   object \n",
      " 9   OnlineSecurity    7043 non-null   object \n",
      " 10  OnlineBackup      7043 non-null   object \n",
      " 11  DeviceProtection  7043 non-null   object \n",
      " 12  TechSupport       7043 non-null   object \n",
      " 13  StreamingTV       7043 non-null   object \n",
      " 14  StreamingMovies   7043 non-null   object \n",
      " 15  Contract          7043 non-null   object \n",
      " 16  PaperlessBilling  7043 non-null   object \n",
      " 17  PaymentMethod     7043 non-null   object \n",
      " 18  MonthlyCharges    7043 non-null   float64\n",
      " 19  TotalCharges      7043 non-null   object \n",
      " 20  Churn             7043 non-null   object \n",
      "dtypes: float64(1), int64(2), object(18)\n",
      "memory usage: 1.1+ MB\n",
      "None\n"
     ]
    }
   ],
   "source": [
    "import pandas as pd\n",
    "cleaned_df = pd.read_csv(\"cleaned_telco_churn.csv\")\n",
    "print(cleaned_df.head()) # To check the first few rows\n",
    "print(cleaned_df.info()) # To check data types and non-null counts\n"
   ]
  },
  {
   "cell_type": "code",
   "execution_count": 4,
   "id": "8993313f-b6c4-4d27-9be2-8dfb914e01fa",
   "metadata": {},
   "outputs": [],
   "source": [
    "df.to_csv(\"cleaned_telco_churn.csv\", index=False)"
   ]
  },
  {
   "cell_type": "code",
   "execution_count": null,
   "id": "8cd72900-9bc4-41d5-a288-0594d3a5ab1b",
   "metadata": {},
   "outputs": [],
   "source": [
    "# now this will  be used in powerBI  for visualizing . "
   ]
  }
 ],
 "metadata": {
  "kernelspec": {
   "display_name": "Python 3 (ipykernel)",
   "language": "python",
   "name": "python3"
  },
  "language_info": {
   "codemirror_mode": {
    "name": "ipython",
    "version": 3
   },
   "file_extension": ".py",
   "mimetype": "text/x-python",
   "name": "python",
   "nbconvert_exporter": "python",
   "pygments_lexer": "ipython3",
   "version": "3.12.3"
  }
 },
 "nbformat": 4,
 "nbformat_minor": 5
}
